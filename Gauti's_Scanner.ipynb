{
 "cells": [
  {
   "cell_type": "markdown",
   "metadata": {},
   "source": [
    "# ***Implementation of  Scanner***"
   ]
  },
  {
   "cell_type": "markdown",
   "metadata": {},
   "source": [
    "***Limitations :- Comments must be only at the end of RegEx ***\n",
    "\n",
    "***To find the correct result always restart the kernel and run all cells***\n",
    "\n",
    "***This is necessary since we have used a global list***"
   ]
  },
  {
   "cell_type": "code",
   "execution_count": 1,
   "metadata": {},
   "outputs": [],
   "source": [
    "from collections import defaultdict\n",
    "import numpy as np\n",
    "import re"
   ]
  },
  {
   "cell_type": "code",
   "execution_count": 2,
   "metadata": {},
   "outputs": [],
   "source": [
    "identifier_list = []\n",
    "flag = \" \""
   ]
  },
  {
   "cell_type": "code",
   "execution_count": 3,
   "metadata": {},
   "outputs": [],
   "source": [
    "operators = [\"+\",\"-\",\"/\",\"*\",\"%\",\"<\",\">\",\"(\",\")\",\"=\"]\n",
    "names = [\"PLUS\",\"SUB\",\"DIV\",\"MUL\",\"MOD\",\"LT\",\"GT\",\"LPAREN\",\"RPAREN\",\"ASSIGN\"]\n",
    "\n",
    "Dict = defaultdict()\n",
    "for i in range(len(operators)):\n",
    "    Dict[operators[i]] = names[i]"
   ]
  },
  {
   "cell_type": "code",
   "execution_count": 4,
   "metadata": {},
   "outputs": [],
   "source": [
    "def splitter(info,line,flag):\n",
    "    order = [\" \"]*len(line)\n",
    "    pos = info.start()\n",
    "    order[pos] = flag\n",
    "    for i in range(len(line)):\n",
    "        if line[i] in operators:\n",
    "            order[i] = Dict[line[i]]\n",
    "    for i in range(len(order)):\n",
    "        if order[i] != \" \":\n",
    "            identifier_list.append(order[i])\n",
    "    return "
   ]
  },
  {
   "cell_type": "code",
   "execution_count": 5,
   "metadata": {},
   "outputs": [],
   "source": [
    "def operator_checker(info,line):\n",
    "    len_diff = info.end() - info.start()\n",
    "    if len_diff == len(line):\n",
    "        return 1"
   ]
  },
  {
   "cell_type": "code",
   "execution_count": 6,
   "metadata": {},
   "outputs": [],
   "source": [
    "def find_ID(line):\n",
    "    if re.search(r\"[0-9]+[a-zA-Z_]+\",line):\n",
    "        print \"Invalid Token\"\n",
    "        return\n",
    "    info = re.search(r\"[a-zA-Z_][a-zA-Z0-9_]*\",line)\n",
    "    if info:\n",
    "        flag = \"ID\"\n",
    "        if operator_checker(info,line):\n",
    "            identifier_list.append(flag)\n",
    "            return 1\n",
    "        else:\n",
    "            order = splitter(info,line,flag)\n",
    "            return 1"
   ]
  },
  {
   "cell_type": "code",
   "execution_count": 8,
   "metadata": {},
   "outputs": [],
   "source": [
    "def find_Num(line):\n",
    "    if re.search(r\"0[0-9]+\",line):\n",
    "        print \"Invalid Number Token\"\n",
    "        return\n",
    "    info = re.search(r\"[0-9]+\",line)\n",
    "    if info:\n",
    "        flag = \"NUM\"\n",
    "        if operator_checker(info,line):\n",
    "            identifier_list.append(flag)\n",
    "            return 1\n",
    "        else:\n",
    "            order = splitter(info,line,flag)\n",
    "            return 1\n"
   ]
  },
  {
   "cell_type": "code",
   "execution_count": 9,
   "metadata": {},
   "outputs": [],
   "source": [
    "def find_Operator(line):\n",
    "    order = [\" \"]*len(line)\n",
    "    for i in range(len(line)):\n",
    "        if line[i] in operators:\n",
    "            order[i] = Dict[line[i]]\n",
    "    if len(order) > 1:\n",
    "        if order[0] == order[1]:\n",
    "            if order[0] == \"ASSIGN\":\n",
    "                order[0] = \"EQUALTO\"\n",
    "            if order[0] == \"MUL\":\n",
    "                order[0] = \"EXP\"\n",
    "        order[1] = \" \"    \n",
    "    for i in order:\n",
    "        if i != \" \":\n",
    "            identifier_list.append(i)\n",
    "    return 1"
   ]
  },
  {
   "cell_type": "code",
   "execution_count": 10,
   "metadata": {},
   "outputs": [],
   "source": [
    "def remove_comments(line):\n",
    "    part = line.split(\"$\")\n",
    "    return part[0]"
   ]
  },
  {
   "cell_type": "code",
   "execution_count": 11,
   "metadata": {
    "collapsed": true
   },
   "outputs": [],
   "source": [
    "def get_tokens(line):\n",
    "    return line.split(\" \")"
   ]
  },
  {
   "cell_type": "code",
   "execution_count": 12,
   "metadata": {},
   "outputs": [],
   "source": [
    "def RegEx2FsmConverter(regEx):\n",
    "    regEx = remove_comments(regEx)\n",
    "    tokens = get_tokens(regEx)\n",
    "    for i in range(len(tokens)):\n",
    "        if find_ID(tokens[i]):\n",
    "            continue\n",
    "        if find_Num(tokens[i]):\n",
    "            continue\n",
    "        if find_Operator(tokens[i]):\n",
    "            continue"
   ]
  },
  {
   "cell_type": "code",
   "execution_count": 13,
   "metadata": {},
   "outputs": [
    {
     "name": "stdout",
     "output_type": "stream",
     "text": [
      "ID EQUALTO LPAREN ID LT NUM RPAREN PLUS NUM EXP ID DIV NUM\n"
     ]
    }
   ],
   "source": [
    "#identifier_list = []\n",
    "regEx = \"a_1 == (b < 0) + 2 ** c / 6$ can it be fun $\"\n",
    "RegEx2FsmConverter(regEx)\n",
    "for i in identifier_list:\n",
    "    print i,"
   ]
  }
 ],
 "metadata": {
  "kernelspec": {
   "display_name": "Python 2",
   "language": "python",
   "name": "python2"
  },
  "language_info": {
   "codemirror_mode": {
    "name": "ipython",
    "version": 2
   },
   "file_extension": ".py",
   "mimetype": "text/x-python",
   "name": "python",
   "nbconvert_exporter": "python",
   "pygments_lexer": "ipython2",
   "version": "2.7.14"
  }
 },
 "nbformat": 4,
 "nbformat_minor": 1
}
