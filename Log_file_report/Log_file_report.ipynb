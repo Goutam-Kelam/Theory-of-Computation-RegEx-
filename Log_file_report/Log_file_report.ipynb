{
 "cells": [
  {
   "cell_type": "markdown",
   "metadata": {},
   "source": [
    "# ***This program solves the below question from Code Maven ***\n",
    "\n",
    "# ***Python: Exercise: parse hours log file and give report***\n",
    "\n",
    "# ***https://code-maven.com/slides/python-programming/exercise-parse-log-file***"
   ]
  },
  {
   "cell_type": "code",
   "execution_count": 1,
   "metadata": {
    "collapsed": true
   },
   "outputs": [],
   "source": [
    "import re\n",
    "from datetime import datetime\n",
    "from collections import defaultdict\n"
   ]
  },
  {
   "cell_type": "code",
   "execution_count": 2,
   "metadata": {
    "collapsed": true
   },
   "outputs": [],
   "source": [
    "# Stored file as array of strings\n",
    "text = open(\"log.txt\").read().splitlines()\n",
    "\n",
    "# opened file to write the schedule as output\n",
    "fh = open(\"output.txt\",\"w+\")\n",
    "\n"
   ]
  },
  {
   "cell_type": "code",
   "execution_count": 3,
   "metadata": {
    "collapsed": true
   },
   "outputs": [],
   "source": [
    "#Regular expression for searching and grouping\n",
    "expr = r\"(\\d\\d):(\\d\\d) (.*)\"\n",
    "re_compiled=re.compile(expr)\n"
   ]
  },
  {
   "cell_type": "code",
   "execution_count": 4,
   "metadata": {
    "collapsed": true
   },
   "outputs": [],
   "source": [
    "#Default Dictionary to store events as indices \n",
    "dictionary = defaultdict(list)\n",
    "total_time_min = 0\n"
   ]
  },
  {
   "cell_type": "code",
   "execution_count": 5,
   "metadata": {},
   "outputs": [
    {
     "name": "stdout",
     "output_type": "stream",
     "text": [
      "970\n"
     ]
    }
   ],
   "source": [
    "for line in range(len(text)-1):\n",
    "    \n",
    "    event_1 = re_compiled.search(text[line])\n",
    "    \n",
    "    event_2 = re_compiled.search(text[line+1])\n",
    "    \n",
    "    output = (event_1.group(1)+\":\"+event_1.group(2)+\"-\"+\n",
    "                event_2.group(1)+\":\"+event_2.group(2)+\" \"+\n",
    "                    event_1.group(3)+\"\\n\")\n",
    "    \n",
    "    fh.write(output)\n",
    "    \n",
    "    start_time = str(event_1.group(1)+\":\"+ event_1.group(2))\n",
    "    \n",
    "    end_time = str(event_2.group(1)+\":\"+ event_2.group(2))\n",
    "    \n",
    "    t1 = datetime.strptime(start_time,\"%H:%M\")\n",
    "    \n",
    "    t2 = datetime.strptime(end_time,\"%H:%M\")\n",
    "    \n",
    "    t_hrs = t2 - t1\n",
    "    \n",
    "    t_min = t_hrs.seconds/60\n",
    "    \n",
    "    if event_1.group(3) != \"End\":\n",
    "        total_time_min += t_min\n",
    "        dictionary[event_1.group(3)].append(t_min)\n",
    "    \n",
    "    #print dictionary.keys()\n",
    "fh.close()\n",
    "print total_time_min\n"
   ]
  },
  {
   "cell_type": "code",
   "execution_count": 6,
   "metadata": {
    "collapsed": true
   },
   "outputs": [],
   "source": [
    "# accessing the Indices\n",
    "list_dictionary = list(dictionary.keys())"
   ]
  },
  {
   "cell_type": "code",
   "execution_count": 7,
   "metadata": {},
   "outputs": [
    {
     "name": "stdout",
     "output_type": "stream",
     "text": [
      "Functions\t30\t3%\n",
      "Introduction\t100\t10%\n",
      "Dictionaries\t15\t1%\n",
      "Lists\t60\t6%\n",
      "Break\t65\t6%\n",
      "Numbers and strings\t55\t5%\n",
      "Solutions\t95\t9%\n",
      "Exercises\t340\t35%\n",
      "Lists and Tuples\t60\t6%\n",
      "Lunch Break\t150\t15%\n"
     ]
    }
   ],
   "source": [
    "for iterator in range(len(list_dictionary)):\n",
    "    \n",
    "    if list_dictionary[iterator] != \"End\":\n",
    "        \n",
    "        individual_time = sum(dictionary[list_dictionary[iterator]])\n",
    "        \n",
    "        individual_percent = (individual_time*100)/total_time_min\n",
    "        \n",
    "        print (list_dictionary[iterator] +\"\\t\"+ str(individual_time) +\n",
    "               \"\\t\"+ str(individual_percent)+\"%\")\n",
    "\n"
   ]
  }
 ],
 "metadata": {
  "kernelspec": {
   "display_name": "Python 2",
   "language": "python",
   "name": "python2"
  },
  "language_info": {
   "codemirror_mode": {
    "name": "ipython",
    "version": 2
   },
   "file_extension": ".py",
   "mimetype": "text/x-python",
   "name": "python",
   "nbconvert_exporter": "python",
   "pygments_lexer": "ipython2",
   "version": "2.7.14"
  }
 },
 "nbformat": 4,
 "nbformat_minor": 2
}
